{
 "cells": [
  {
   "cell_type": "code",
   "execution_count": 1,
   "id": "2b33cef7",
   "metadata": {},
   "outputs": [],
   "source": [
    "'''1. A robot has been given a list of movement instructions. Each instruction is either left, right, up or down, followed by\n",
    "a distance to move. The robot starts at [0, 0]. You want to calculate where the robot will end up and return its final\n",
    "position as a list.To illustrate, if the robot is given the following instructions:\n",
    "[\"right 10\", \"up 50\", \"left 30\", \"down 10\"]\n",
    "It will end up 20 left and 40 up from where it started, so we return [-20, 40].'''\n",
    "import re\n",
    "def track_robot(l):\n",
    "    x,y=0,0\n",
    "    for i in range(len(l)):\n",
    "        l[i]=l[i].split()\n",
    "    for i in range(len(l)):\n",
    "        if l[i][0]==\"right\":\n",
    "            x+=int(l[i][1])\n",
    "        elif l[i][0]==\"left\":\n",
    "            x-=int(l[i][1])\n",
    "        elif l[i][0]==\"up\":\n",
    "            y+=int(l[i][1])\n",
    "        else:\n",
    "            y-=int(l[i][1])\n",
    "    return [x,y]\n"
   ]
  },
  {
   "cell_type": "code",
   "execution_count": 2,
   "id": "2e88e013",
   "metadata": {},
   "outputs": [
    {
     "data": {
      "text/plain": [
       "[-20, 40]"
      ]
     },
     "execution_count": 2,
     "metadata": {},
     "output_type": "execute_result"
    }
   ],
   "source": [
    "track_robot([\"right 10\", \"up 50\", \"left 30\", \"down 10\"])"
   ]
  },
  {
   "cell_type": "code",
   "execution_count": 3,
   "id": "d9ba180e",
   "metadata": {},
   "outputs": [
    {
     "data": {
      "text/plain": [
       "[0, 0]"
      ]
     },
     "execution_count": 3,
     "metadata": {},
     "output_type": "execute_result"
    }
   ],
   "source": [
    "track_robot([]) "
   ]
  },
  {
   "cell_type": "code",
   "execution_count": 4,
   "id": "9fa118b7",
   "metadata": {},
   "outputs": [
    {
     "data": {
      "text/plain": [
       "[200, 10500]"
      ]
     },
     "execution_count": 4,
     "metadata": {},
     "output_type": "execute_result"
    }
   ],
   "source": [
    "track_robot([\"right 100\", \"right 100\", \"up 500\", \"up 10000\"])"
   ]
  },
  {
   "cell_type": "code",
   "execution_count": 5,
   "id": "c5554cea",
   "metadata": {},
   "outputs": [],
   "source": [
    "'''2. Write a function that will return the longest word in a sentence. In cases where more than one word is found,\n",
    "return the first one.'''\n",
    "def find_longest(s):\n",
    "    s=s.split()\n",
    "    l=0\n",
    "    for i in s:\n",
    "        if len(i)==l:\n",
    "            continue\n",
    "        l=max(l,len(i))\n",
    "        if l==len(i):\n",
    "            d=i\n",
    "    d=list(d)\n",
    "    for i in d[::-1]:\n",
    "        if i.isalpha():\n",
    "            continue\n",
    "        else:\n",
    "            (d).remove(i)\n",
    "    return \"\".join(d)"
   ]
  },
  {
   "cell_type": "code",
   "execution_count": 6,
   "id": "51f85342",
   "metadata": {},
   "outputs": [
    {
     "data": {
      "text/plain": [
       "'forever'"
      ]
     },
     "execution_count": 6,
     "metadata": {},
     "output_type": "execute_result"
    }
   ],
   "source": [
    "find_longest(\"A thing of beauty is a joy forever.\") "
   ]
  },
  {
   "cell_type": "code",
   "execution_count": 7,
   "id": "e3e17612",
   "metadata": {},
   "outputs": [
    {
     "data": {
      "text/plain": [
       "'Forgetfulness'"
      ]
     },
     "execution_count": 7,
     "metadata": {},
     "output_type": "execute_result"
    }
   ],
   "source": [
    "find_longest(\"Forgetfulness is by all means powerless!\")"
   ]
  },
  {
   "cell_type": "code",
   "execution_count": 8,
   "id": "3684ec9a",
   "metadata": {},
   "outputs": [
    {
     "data": {
      "text/plain": [
       "'Strengths'"
      ]
     },
     "execution_count": 8,
     "metadata": {},
     "output_type": "execute_result"
    }
   ],
   "source": [
    "find_longest(\"\\\"Strengths\\\" is the longest and most commonly used word that contains only a single vowel.\") "
   ]
  },
  {
   "cell_type": "code",
   "execution_count": 9,
   "id": "51eceee3",
   "metadata": {},
   "outputs": [],
   "source": [
    "'''3. Create a function to check if a candidate is qualified in an imaginary coding interview of an imaginary tech startup.\n",
    "The criteria for a candidate to be qualified in the coding interview is:1. The candidate should have complete all the questions.\n",
    "   2. The maximum time given to complete the interview is 120 minutes.\n",
    "   3. The maximum time given for very easy questions is 5 minutes each.\n",
    "   4. The maximum time given for easy questions is 10 minutes each.\n",
    "   5. The maximum time given for medium questions is 15 minutes each.\n",
    "   6. The maximum time given for hard questions is 20 minutes each.\n",
    "If all the above conditions are satisfied, return \"qualified\", else return \"disqualified\".\n",
    "You will be given a list of time taken by a candidate to solve a particular question and the total time taken by the candidate\n",
    "to complete the interview.Given a list , in a true condition will always be in the format [very easy, very easy, easy, easy,\n",
    "medium, medium, hard, hard].The maximum time to complete the interview includes a buffer time of 20 minutes.'''\n",
    "def interview(l,n):\n",
    "    if n>120:\n",
    "        return \"disqualified\"\n",
    "    elif len(l)!=8:\n",
    "        return \"disqualified\"\n",
    "    else:\n",
    "        for i in l:\n",
    "            if l[0]>5 or l[1]>5:\n",
    "                return \"disqualified\"\n",
    "            if l[2]>10 or l[3]>10:\n",
    "                return \"disqualified\"\n",
    "            if l[4]>15 or l[5]>15:\n",
    "                return \"disqualified\"\n",
    "            if l[6]>20 or l[6]>20:\n",
    "                return \"disqualified\"\n",
    "    return \"qualified\"\n",
    "    "
   ]
  },
  {
   "cell_type": "code",
   "execution_count": 10,
   "id": "064098f4",
   "metadata": {},
   "outputs": [
    {
     "data": {
      "text/plain": [
       "'qualified'"
      ]
     },
     "execution_count": 10,
     "metadata": {},
     "output_type": "execute_result"
    }
   ],
   "source": [
    "interview([5, 5, 10, 10, 15, 15, 20, 20], 120)"
   ]
  },
  {
   "cell_type": "code",
   "execution_count": 11,
   "id": "ca6e851f",
   "metadata": {},
   "outputs": [
    {
     "data": {
      "text/plain": [
       "'qualified'"
      ]
     },
     "execution_count": 11,
     "metadata": {},
     "output_type": "execute_result"
    }
   ],
   "source": [
    "interview([2, 3, 8, 6, 5, 12, 10, 18], 64)"
   ]
  },
  {
   "cell_type": "code",
   "execution_count": 12,
   "id": "3346a174",
   "metadata": {},
   "outputs": [
    {
     "data": {
      "text/plain": [
       "'disqualified'"
      ]
     },
     "execution_count": 12,
     "metadata": {},
     "output_type": "execute_result"
    }
   ],
   "source": [
    "interview([5, 5, 10, 10, 25, 15, 20, 20], 120)"
   ]
  },
  {
   "cell_type": "code",
   "execution_count": 13,
   "id": "76fba983",
   "metadata": {},
   "outputs": [
    {
     "data": {
      "text/plain": [
       "'disqualified'"
      ]
     },
     "execution_count": 13,
     "metadata": {},
     "output_type": "execute_result"
    }
   ],
   "source": [
    "interview([5, 5, 10, 10, 15, 15, 20], 120)"
   ]
  },
  {
   "cell_type": "code",
   "execution_count": 14,
   "id": "006b990d",
   "metadata": {},
   "outputs": [
    {
     "data": {
      "text/plain": [
       "'disqualified'"
      ]
     },
     "execution_count": 14,
     "metadata": {},
     "output_type": "execute_result"
    }
   ],
   "source": [
    "interview([5, 5, 10, 10, 15, 15, 20, 20], 130)"
   ]
  },
  {
   "cell_type": "code",
   "execution_count": 15,
   "id": "99bd5e5e",
   "metadata": {},
   "outputs": [],
   "source": [
    "#4. Write a function that divides a list into chunks of size n, where n is the length of each chunk.\n",
    "def chunkify(l,n):\n",
    "    r=[]\n",
    "    for i in range(0,(len(l))+1,n):\n",
    "        if l[i:i+n]==[]:\n",
    "            return r\n",
    "        else:\n",
    "            r.append(l[i:i+n])       \n",
    "    return r"
   ]
  },
  {
   "cell_type": "code",
   "execution_count": 16,
   "id": "9969c2cf",
   "metadata": {},
   "outputs": [
    {
     "data": {
      "text/plain": [
       "[[2, 3], [4, 5]]"
      ]
     },
     "execution_count": 16,
     "metadata": {},
     "output_type": "execute_result"
    }
   ],
   "source": [
    "chunkify([2, 3, 4, 5], 2)"
   ]
  },
  {
   "cell_type": "code",
   "execution_count": 17,
   "id": "45ec41fc",
   "metadata": {},
   "outputs": [
    {
     "data": {
      "text/plain": [
       "[[2, 3], [4, 5], [6]]"
      ]
     },
     "execution_count": 17,
     "metadata": {},
     "output_type": "execute_result"
    }
   ],
   "source": [
    "chunkify([2, 3, 4, 5, 6], 2)"
   ]
  },
  {
   "cell_type": "code",
   "execution_count": 18,
   "id": "8081455b",
   "metadata": {},
   "outputs": [
    {
     "data": {
      "text/plain": [
       "[[2, 3, 4], [5, 6, 7]]"
      ]
     },
     "execution_count": 18,
     "metadata": {},
     "output_type": "execute_result"
    }
   ],
   "source": [
    "chunkify([2, 3, 4, 5, 6, 7], 3)"
   ]
  },
  {
   "cell_type": "code",
   "execution_count": 19,
   "id": "cefbea98",
   "metadata": {},
   "outputs": [
    {
     "data": {
      "text/plain": [
       "[[2], [3], [4], [5], [6], [7]]"
      ]
     },
     "execution_count": 19,
     "metadata": {},
     "output_type": "execute_result"
    }
   ],
   "source": [
    "chunkify([2, 3, 4, 5, 6, 7], 1)"
   ]
  },
  {
   "cell_type": "code",
   "execution_count": 20,
   "id": "1808d386",
   "metadata": {},
   "outputs": [
    {
     "data": {
      "text/plain": [
       "[[2, 3, 4, 5, 6, 7]]"
      ]
     },
     "execution_count": 20,
     "metadata": {},
     "output_type": "execute_result"
    }
   ],
   "source": [
    "chunkify([2, 3, 4, 5, 6, 7], 7)"
   ]
  },
  {
   "cell_type": "code",
   "execution_count": 21,
   "id": "239c5c77",
   "metadata": {},
   "outputs": [],
   "source": [
    "'''5. You are given a list of strings consisting of grocery items, with prices in parentheses. Return a list of prices in \n",
    "float format.'''\n",
    "import re\n",
    "def get_prices(l):\n",
    "    l=\"\".join(l)\n",
    "    l=re.findall(r'\\d+.\\d+',l)\n",
    "    for i in range(len(l)):\n",
    "        l[i]=float(l[i])\n",
    "    print(l)\n",
    "    \n",
    "    "
   ]
  },
  {
   "cell_type": "code",
   "execution_count": 22,
   "id": "1e97c8c2",
   "metadata": {},
   "outputs": [
    {
     "name": "stdout",
     "output_type": "stream",
     "text": [
      "[4.99]\n"
     ]
    }
   ],
   "source": [
    "get_prices([\"salad ($4.99)\"]) \n"
   ]
  },
  {
   "cell_type": "code",
   "execution_count": 23,
   "id": "ed140010",
   "metadata": {},
   "outputs": [
    {
     "name": "stdout",
     "output_type": "stream",
     "text": [
      "[1.99, 5.99, 0.75]\n"
     ]
    }
   ],
   "source": [
    "get_prices([\n",
    "  \"artichokes ($1.99)\",\n",
    "  \"rotiserrie chicken ($5.99)\",\n",
    "  \"gum ($0.75)\"\n",
    "])\n"
   ]
  },
  {
   "cell_type": "code",
   "execution_count": 24,
   "id": "163bca9d",
   "metadata": {},
   "outputs": [
    {
     "name": "stdout",
     "output_type": "stream",
     "text": [
      "[5.99, 0.2, 8.5, 1.99]\n"
     ]
    }
   ],
   "source": [
    "get_prices([\n",
    "  \"ice cream ($5.99)\",\n",
    "  \"banana ($0.20)\",\n",
    "  \"sandwich ($8.50)\",\n",
    "  \"soup ($1.99)\"\n",
    "])\n"
   ]
  }
 ],
 "metadata": {
  "kernelspec": {
   "display_name": "Python 3 (ipykernel)",
   "language": "python",
   "name": "python3"
  },
  "language_info": {
   "codemirror_mode": {
    "name": "ipython",
    "version": 3
   },
   "file_extension": ".py",
   "mimetype": "text/x-python",
   "name": "python",
   "nbconvert_exporter": "python",
   "pygments_lexer": "ipython3",
   "version": "3.10.9"
  }
 },
 "nbformat": 4,
 "nbformat_minor": 5
}
